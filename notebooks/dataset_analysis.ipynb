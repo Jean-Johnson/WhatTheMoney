{
 "cells": [
  {
   "cell_type": "code",
   "execution_count": 55,
   "metadata": {},
   "outputs": [],
   "source": [
    "import matplotlib\n",
    "import pandas as pd"
   ]
  },
  {
   "cell_type": "code",
   "execution_count": 13,
   "metadata": {},
   "outputs": [],
   "source": [
    "df = pd.read_csv(\"../Data/Budget_calculations_2021.csv\")"
   ]
  },
  {
   "cell_type": "code",
   "execution_count": 14,
   "metadata": {},
   "outputs": [],
   "source": [
    "\n",
    "df = df.loc[6:]\n",
    "### Only created data from july"
   ]
  },
  {
   "cell_type": "code",
   "execution_count": 18,
   "metadata": {},
   "outputs": [
    {
     "data": {
      "text/html": [
       "<div>\n",
       "<style scoped>\n",
       "    .dataframe tbody tr th:only-of-type {\n",
       "        vertical-align: middle;\n",
       "    }\n",
       "\n",
       "    .dataframe tbody tr th {\n",
       "        vertical-align: top;\n",
       "    }\n",
       "\n",
       "    .dataframe thead th {\n",
       "        text-align: right;\n",
       "    }\n",
       "</style>\n",
       "<table border=\"1\" class=\"dataframe\">\n",
       "  <thead>\n",
       "    <tr style=\"text-align: right;\">\n",
       "      <th></th>\n",
       "      <th>Month</th>\n",
       "      <th>Account1</th>\n",
       "      <th>Account2</th>\n",
       "      <th>Stocks</th>\n",
       "      <th>Crypto</th>\n",
       "      <th>Mutal</th>\n",
       "      <th>Bank Total</th>\n",
       "      <th>Total</th>\n",
       "    </tr>\n",
       "  </thead>\n",
       "  <tbody>\n",
       "    <tr>\n",
       "      <th>6</th>\n",
       "      <td>July</td>\n",
       "      <td>95960.93</td>\n",
       "      <td>3206.26</td>\n",
       "      <td>0</td>\n",
       "      <td>869.72</td>\n",
       "      <td>0</td>\n",
       "      <td>99167.19</td>\n",
       "      <td>100036.91</td>\n",
       "    </tr>\n",
       "    <tr>\n",
       "      <th>7</th>\n",
       "      <td>August</td>\n",
       "      <td>119498.51</td>\n",
       "      <td>2202.01</td>\n",
       "      <td>0</td>\n",
       "      <td>869.72</td>\n",
       "      <td>0</td>\n",
       "      <td>121700.52</td>\n",
       "      <td>122570.24</td>\n",
       "    </tr>\n",
       "    <tr>\n",
       "      <th>8</th>\n",
       "      <td>September</td>\n",
       "      <td>110068.16</td>\n",
       "      <td>1212.01</td>\n",
       "      <td>0</td>\n",
       "      <td>869.72</td>\n",
       "      <td>0</td>\n",
       "      <td>111280.17</td>\n",
       "      <td>112149.89</td>\n",
       "    </tr>\n",
       "    <tr>\n",
       "      <th>9</th>\n",
       "      <td>October</td>\n",
       "      <td>104652.94</td>\n",
       "      <td>3488.23</td>\n",
       "      <td>0</td>\n",
       "      <td>869.72</td>\n",
       "      <td>0</td>\n",
       "      <td>108141.17</td>\n",
       "      <td>109010.89</td>\n",
       "    </tr>\n",
       "    <tr>\n",
       "      <th>10</th>\n",
       "      <td>November</td>\n",
       "      <td>105286.52</td>\n",
       "      <td>5959.23</td>\n",
       "      <td>0</td>\n",
       "      <td>869.72</td>\n",
       "      <td>0</td>\n",
       "      <td>111245.75</td>\n",
       "      <td>112115.47</td>\n",
       "    </tr>\n",
       "    <tr>\n",
       "      <th>11</th>\n",
       "      <td>December</td>\n",
       "      <td>100559.10</td>\n",
       "      <td>11033.23</td>\n",
       "      <td>0</td>\n",
       "      <td>869.72</td>\n",
       "      <td>0</td>\n",
       "      <td>111592.33</td>\n",
       "      <td>112462.05</td>\n",
       "    </tr>\n",
       "  </tbody>\n",
       "</table>\n",
       "</div>"
      ],
      "text/plain": [
       "        Month   Account1  Account2  Stocks  Crypto  Mutal  Bank Total  \\\n",
       "6        July   95960.93   3206.26       0  869.72      0    99167.19   \n",
       "7      August  119498.51   2202.01       0  869.72      0   121700.52   \n",
       "8   September  110068.16   1212.01       0  869.72      0   111280.17   \n",
       "9     October  104652.94   3488.23       0  869.72      0   108141.17   \n",
       "10   November  105286.52   5959.23       0  869.72      0   111245.75   \n",
       "11   December  100559.10  11033.23       0  869.72      0   111592.33   \n",
       "\n",
       "        Total  \n",
       "6   100036.91  \n",
       "7   122570.24  \n",
       "8   112149.89  \n",
       "9   109010.89  \n",
       "10  112115.47  \n",
       "11  112462.05  "
      ]
     },
     "execution_count": 18,
     "metadata": {},
     "output_type": "execute_result"
    }
   ],
   "source": [
    "df.iloc[0:]"
   ]
  },
  {
   "cell_type": "markdown",
   "metadata": {},
   "source": [
    "## creating function for calculation"
   ]
  },
  {
   "cell_type": "markdown",
   "metadata": {},
   "source": [
    "\n",
    "Data:\n",
    "\n",
    "\tTotal bank balance in each month\n",
    "\tTotal investment in each month\n",
    "\tTotal spend in each month\n",
    "\tTotal money gained in each month\n",
    "\t\n",
    "Methods:\n",
    "\n",
    "\tEnd of each momth enter total bank balance\n",
    "\tDont bother about investment\n",
    "\n",
    "Calculations:\n",
    "\n",
    "\t//Spend ratio bank =  Total bank - recorded spending total\n",
    "\tSpend ratio total = Total investment - recorded Spending Total\n",
    "\tinvestment increases = Total investment - last month total investment\n",
    "\t\n",
    "Sample\n",
    "jan:\n",
    "\n",
    "\tTotal bank 1000\n",
    "\tTotal investment 500\n",
    "\tTotal 1500\n",
    "\t\n",
    "Feb :\n",
    "\n",
    "\tTotal bank 1600\n",
    "\tTotal investment 530\n",
    "\tTotal 2130\n",
    "\t\n",
    "\n",
    "Growth calc\n",
    "\n",
    "\tBank:\n",
    "\t\tincrease: 1600 - 1000 = 600\n",
    "\t\tper:  600/1000 * 100 = 60\n",
    "\t\n",
    "\tInvestment:\n",
    "\t\tincrease: 530 - 500 =30\n",
    "\t\tper: 30/500 *100 = 6%\n",
    "\t\n",
    "\tTotal:\n",
    "\t\tincrease: 2130 - 1500 = 630\n",
    "\t\tper: 630/1500 * 100 = 42|\n",
    "\t\tTotal spend\n",
    "\t\tTotal gained"
   ]
  },
  {
   "cell_type": "code",
   "execution_count": 40,
   "metadata": {},
   "outputs": [],
   "source": [
    "def calculate_list_sum(value_list):\n",
    "    \"\"\"\n",
    "    used for to get sum of  bank total, invest total, any thing which have list of integers\n",
    "\n",
    "    \"\"\"\n",
    "    total_sum =  sum(value_list)\n",
    "    print(total_sum)\n",
    "    return round(total_sum,2)"
   ]
  },
  {
   "cell_type": "code",
   "execution_count": 41,
   "metadata": {},
   "outputs": [
    {
     "name": "stdout",
     "output_type": "stream",
     "text": [
      "99167.18999999999\n"
     ]
    },
    {
     "data": {
      "text/plain": [
       "99167.19"
      ]
     },
     "execution_count": 41,
     "metadata": {},
     "output_type": "execute_result"
    }
   ],
   "source": [
    "calculate_list_sum(df.iloc[0][[\"Account1\",\"Account2\"]].tolist())"
   ]
  },
  {
   "cell_type": "code",
   "execution_count": 53,
   "metadata": {},
   "outputs": [],
   "source": [
    "def percent_ratio(value_list):\n",
    "    \"\"\"\n",
    "    [previous month value,currunt month value] can be total of anything\n",
    "    \"\"\"\n",
    "    ratio = ((value_list[1] - value_list[0])/value_list[0])*100\n",
    "    return round(ratio,2)"
   ]
  },
  {
   "cell_type": "code",
   "execution_count": 54,
   "metadata": {},
   "outputs": [
    {
     "data": {
      "text/plain": [
       "22.53"
      ]
     },
     "execution_count": 54,
     "metadata": {},
     "output_type": "execute_result"
    }
   ],
   "source": [
    "\n",
    "percent_ratio([df.iloc[0][\"Total\"],df.iloc[1][\"Total\"]])"
   ]
  },
  {
   "cell_type": "code",
   "execution_count": null,
   "metadata": {},
   "outputs": [],
   "source": []
  }
 ],
 "metadata": {
  "interpreter": {
   "hash": "69a7ec1f19fe8e6b4d60bff3a060a39e42b8b78906aa04442e53246e4bcaf9b9"
  },
  "kernelspec": {
   "display_name": "Python 3.7.0 64-bit",
   "language": "python",
   "name": "python3"
  },
  "language_info": {
   "codemirror_mode": {
    "name": "ipython",
    "version": 3
   },
   "file_extension": ".py",
   "mimetype": "text/x-python",
   "name": "python",
   "nbconvert_exporter": "python",
   "pygments_lexer": "ipython3",
   "version": "3.8.12"
  },
  "orig_nbformat": 4
 },
 "nbformat": 4,
 "nbformat_minor": 2
}
